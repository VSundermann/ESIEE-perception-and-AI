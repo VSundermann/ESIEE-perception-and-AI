{
 "cells": [
  {
   "cell_type": "code",
   "execution_count": 1,
   "metadata": {},
   "outputs": [],
   "source": [
    "import numpy as np\n",
    "import cv2 as cv\n",
    "import matplotlib.pyplot as plt"
   ]
  },
  {
   "cell_type": "code",
   "execution_count": 2,
   "metadata": {},
   "outputs": [],
   "source": [
    "def skinDetectionHSV(img):\n",
    "    # Convert img to HSV\n",
    "    imgHSV = cv.cvtColor(img, cv.COLOR_BGR2HSV)\n",
    "\n",
    "    # Boundaries for the HSV colorspace\n",
    "    lowerBoundHSV = np.array([0, 58, 30])\n",
    "    upperBoundHSV = np.array([33, 180, 135])\n",
    "\n",
    "    # Create mask\n",
    "    mask = cv.inRange(imgHSV, lowerBoundHSV, upperBoundHSV)\n",
    "\n",
    "    # Apply mask to original image\n",
    "    imgMasked = cv.bitwise_and(img, img, mask=mask)\n",
    "\n",
    "    # Show image\n",
    "    cv.imshow('Original', img)\n",
    "    cv.imshow('Mask', mask)\n",
    "    cv.imshow('Masked Image', imgMasked)\n",
    "\n",
    "    return imgMasked\n",
    "\n",
    "def skinDetectionYCC(img):\n",
    "    # Convert img to YCrCb\n",
    "    imgYCC = cv.cvtColor(img, cv.COLOR_BGR2YCrCb)\n",
    "\n",
    "    # Boundaries for the YCrCb colorspace\n",
    "    lowerBoundYCC = np.array([0, 133, 77])\n",
    "    upperBoundYCC = np.array([235, 173, 127])\n",
    "\n",
    "    # Create mask\n",
    "    mask = cv.inRange(imgYCC, lowerBoundYCC, upperBoundYCC)\n",
    "\n",
    "    # Apply mask to original image\n",
    "    imgMasked = cv.bitwise_and(img, img, mask=mask)\n",
    "\n",
    "    # Show image\n",
    "    cv.imshow('Original', img)\n",
    "    cv.imshow('Mask', mask)\n",
    "    cv.imshow('Masked Image', imgMasked)\n",
    "\n",
    "    return imgMasked\n",
    "\n",
    "def calcPrecision(img, gt):\n",
    "    # Convert to grayscale\n",
    "    imgGray = cv.cvtColor(img, cv.COLOR_BGR2GRAY)\n",
    "    gtGray = cv.cvtColor(gt, cv.COLOR_BGR2GRAY)\n",
    "\n",
    "    # Thresholding\n",
    "    ret, imgThresh = cv.threshold(imgGray, 0, 255, cv.THRESH_BINARY)\n",
    "    ret, gtThresh = cv.threshold(gtGray, 0, 255, cv.THRESH_BINARY)\n",
    "\n",
    "    # Calculate precision\n",
    "    precision = cv.countNonZero(imgThresh & gtThresh) / cv.countNonZero(imgThresh)\n",
    "    print('Precision: ', precision)"
   ]
  },
  {
   "cell_type": "code",
   "execution_count": 3,
   "metadata": {},
   "outputs": [
    {
     "data": {
      "text/plain": [
       "<matplotlib.image.AxesImage at 0x200e1396910>"
      ]
     },
     "execution_count": 3,
     "metadata": {},
     "output_type": "execute_result"
    },
    {
     "data": {
      "image/png": "[encoded data removed]",
      "text/plain": [
       "<Figure size 432x288 with 1 Axes>"
      ]
     },
     "metadata": {
      "needs_background": "light"
     },
     "output_type": "display_data"
    }
   ],
   "source": [
    "# Read image\n",
    "img = cv.imread(\".\\hand1.jpg\")\n",
    "groundTruth = cv.imread(\".\\hand1_GT.jpg\")\n",
    "\n",
    "plt.imshow(img)\n",
    "plt.imshow(groundTruth)"
   ]
  },
  {
   "cell_type": "code",
   "execution_count": 28,
   "metadata": {},
   "outputs": [
    {
     "name": "stdout",
     "output_type": "stream",
     "text": [
      "Precision:  0.3233021640619912\n",
      "Precision:  0.30622220020634194\n"
     ]
    },
    {
     "ename": "",
     "evalue": "",
     "output_type": "error",
     "traceback": [
      "\u001b[1;31mThe Kernel crashed while executing code in the the current cell or a previous cell. Please review the code in the cell(s) to identify a possible cause of the failure. Click <a href='https://aka.ms/vscodeJupyterKernelCrash'>here</a> for more info. View Jupyter <a href='command:jupyter.viewOutput'>log</a> for further details."
     ]
    }
   ],
   "source": [
    "\n",
    "# Apply skin detection\n",
    "imgSkinHSV = skinDetectionHSV(img)\n",
    "calcPrecision(imgSkinHSV, groundTruth)\n",
    "\n",
    "imgSkinYCC = skinDetectionYCC(img)\n",
    "calcPrecision(imgSkinYCC, groundTruth)"
   ]
  }
 ],
 "metadata": {
  "kernelspec": {
   "display_name": "base",
   "language": "python",
   "name": "python3"
  },
  "language_info": {
   "codemirror_mode": {
    "name": "ipython",
    "version": 3
   },
   "file_extension": ".py",
   "mimetype": "text/x-python",
   "name": "python",
   "nbconvert_exporter": "python",
   "pygments_lexer": "ipython3",
   "version": "3.9.12"
  }
 },
 "nbformat": 4,
 "nbformat_minor": 2
}
