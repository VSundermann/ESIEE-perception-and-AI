{
 "cells": [
  {
   "cell_type": "code",
   "execution_count": null,
   "metadata": {},
   "outputs": [],
   "source": [
    "# Apply skin detection\n",
    "imgSkinHSV = skinDetectionHSV(img, np.array([0, 0, 30]), np.array([20, 110, 245]))\n",
    "calcPrecision(imgSkinHSV, groundTruth)\n",
    "\n",
    "imgSkinHSV = cv.cvtColor(imgSkinHSV, cv.COLOR_BGR2RGB)\n",
    "\n",
    "plt.imshow(imgSkinHSV)\n",
    "plt.imsave(f'{image_path}/results/hand1_skin_hsv.jpg', imgSkinHSV)"
   ]
  },
  {
   "cell_type": "code",
   "execution_count": null,
   "metadata": {},
   "outputs": [],
   "source": [
    "# running for the other images\n",
    "\n",
    "# Read image\n",
    "img = cv.imread(f'{image_path}/hand2.jpg')\n",
    "groundTruth = cv.imread(f'{image_path}/hand2_GT.jpg')"
   ]
  },
  {
   "cell_type": "code",
   "execution_count": null,
   "metadata": {},
   "outputs": [],
   "source": [
    "# Apply skin detection\n",
    "imgSkinHSV = skinDetectionHSV(img, np.array([0, 0, 30]), np.array([20, 110, 245]))\n",
    "calcPrecision(imgSkinHSV, groundTruth)\n",
    "\n",
    "imgSkinHSV = cv.cvtColor(imgSkinHSV, cv.COLOR_BGR2RGB)\n",
    "\n",
    "plt.imshow(imgSkinHSV)\n",
    "plt.imsave(f'{image_path}/results/hand3_skin_hsv.jpg', imgSkinHSV)"
   ]
  }
 ],
 "metadata": {
  "kernelspec": {
   "display_name": "base",
   "language": "python",
   "name": "python3"
  },
  "language_info": {
   "codemirror_mode": {
    "name": "ipython",
    "version": 3
   },
   "file_extension": ".py",
   "mimetype": "text/x-python",
   "name": "python",
   "nbconvert_exporter": "python",
   "pygments_lexer": "ipython3",
   "version": "3.11.0"
  }
 },
 "nbformat": 4,
 "nbformat_minor": 2
}
